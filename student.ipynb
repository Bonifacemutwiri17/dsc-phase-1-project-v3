{
 "cells": [
  {
   "cell_type": "markdown",
   "metadata": {},
   "source": [
    "## Final Project Submission\n",
    "\n",
    "Please fill out:\n",
    "* Student name: Boniface Mutwiri Kimutai\n",
    "* Student pace: Hybrid \n",
    "* Instructor name: MaryAnn Mwikali\n",
    "\n",
    "\n",
    "## Project overview\n",
    "In this project it deals with a company that wants to go into a new business and start a new with different goals and expand there network. There main objective is to get into the aviation sector of the business world and expand there influence majorly on buying aeroplanes and using them for purposes. Mainly Private, military and Commercial purposes. Featuring categorized data on aircraft types, causes, and outcomes, it provides insightful synopses and lessons for the start of the businness.Thus due to the eagerness of the business to start they overlooked the risks accompanied by the airline business thus poor decision making. My project aims to look at the risks in the business and also easily search and filter information, supported by interactive visualization tools. This initiative enhances safety standards, serves as an educational resource, and facilitates research in aviation safety. By ensuring accurate data collection and ongoing maintenance, the project fosters a culture of safety and informed decision-making in the aviation industry.\n",
    "\n",
    "\n",
    "## Import Libraries for the Notebook.\n",
    "\n",
    "For the project i am going to use the dataset stored on Kaggle. The data is stored in csv format (Aviation_Data.csv). I will import the necessary libararies to enable me read my data from the csv file, also I'll import the necessary libraries to assist me in editing and visualizing the data provided.Numpy will be helpful when I need to fast and precise statistical calculations. Pandas is crucial for creating my dataframes so as to see the structure of my data, and also  Matplotlib to help me visualize my outcomes in form of graphs.\n",
    "\n",
    "\n"
   ]
  },
  {
   "cell_type": "code",
   "execution_count": 4,
   "metadata": {},
   "outputs": [],
   "source": [
    "# Your code here - remember to use markdown cells for comments as well!\n",
    "#Importing Libraris \n",
    "#The %matplotlib inline command to help show plots inside my notebook\n",
    "import pandas as pd\n",
    "import numpy as np\n",
    "import matplotlib.pyplot as plt\n",
    "%matplotlib inline\n"
   ]
  },
  {
   "cell_type": "code",
   "execution_count": null,
   "metadata": {},
   "outputs": [],
   "source": []
  }
 ],
 "metadata": {
  "kernelspec": {
   "display_name": "Python 3",
   "language": "python",
   "name": "python3"
  },
  "language_info": {
   "codemirror_mode": {
    "name": "ipython",
    "version": 3
   },
   "file_extension": ".py",
   "mimetype": "text/x-python",
   "name": "python",
   "nbconvert_exporter": "python",
   "pygments_lexer": "ipython3",
   "version": "3.8.5"
  }
 },
 "nbformat": 4,
 "nbformat_minor": 2
}
